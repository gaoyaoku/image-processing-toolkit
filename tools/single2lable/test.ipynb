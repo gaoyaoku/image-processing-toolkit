{
 "cells": [
  {
   "cell_type": "code",
   "execution_count": 1,
   "metadata": {
    "collapsed": true,
    "ExecuteTime": {
     "end_time": "2024-06-05T14:21:54.255049100Z",
     "start_time": "2024-06-05T14:21:53.830904900Z"
    }
   },
   "outputs": [
    {
     "ename": "ModuleNotFoundError",
     "evalue": "No module named '_gdal'",
     "output_type": "error",
     "traceback": [
      "\u001B[1;31m---------------------------------------------------------------------------\u001B[0m",
      "\u001B[1;31mImportError\u001B[0m                               Traceback (most recent call last)",
      "File \u001B[1;32mD:\\anaconda3\\envs\\gdal\\lib\\site-packages\\osgeo\\__init__.py:30\u001B[0m, in \u001B[0;36mswig_import_helper\u001B[1;34m()\u001B[0m\n\u001B[0;32m     29\u001B[0m \u001B[38;5;28;01mtry\u001B[39;00m:\n\u001B[1;32m---> 30\u001B[0m     \u001B[38;5;28;01mreturn\u001B[39;00m \u001B[43mimportlib\u001B[49m\u001B[38;5;241;43m.\u001B[39;49m\u001B[43mimport_module\u001B[49m\u001B[43m(\u001B[49m\u001B[43mmname\u001B[49m\u001B[43m)\u001B[49m\n\u001B[0;32m     31\u001B[0m \u001B[38;5;28;01mexcept\u001B[39;00m \u001B[38;5;167;01mImportError\u001B[39;00m:\n",
      "File \u001B[1;32mD:\\anaconda3\\envs\\gdal\\lib\\importlib\\__init__.py:127\u001B[0m, in \u001B[0;36mimport_module\u001B[1;34m(name, package)\u001B[0m\n\u001B[0;32m    126\u001B[0m         level \u001B[38;5;241m+\u001B[39m\u001B[38;5;241m=\u001B[39m \u001B[38;5;241m1\u001B[39m\n\u001B[1;32m--> 127\u001B[0m \u001B[38;5;28;01mreturn\u001B[39;00m \u001B[43m_bootstrap\u001B[49m\u001B[38;5;241;43m.\u001B[39;49m\u001B[43m_gcd_import\u001B[49m\u001B[43m(\u001B[49m\u001B[43mname\u001B[49m\u001B[43m[\u001B[49m\u001B[43mlevel\u001B[49m\u001B[43m:\u001B[49m\u001B[43m]\u001B[49m\u001B[43m,\u001B[49m\u001B[43m \u001B[49m\u001B[43mpackage\u001B[49m\u001B[43m,\u001B[49m\u001B[43m \u001B[49m\u001B[43mlevel\u001B[49m\u001B[43m)\u001B[49m\n",
      "File \u001B[1;32m<frozen importlib._bootstrap>:1030\u001B[0m, in \u001B[0;36m_gcd_import\u001B[1;34m(name, package, level)\u001B[0m\n",
      "File \u001B[1;32m<frozen importlib._bootstrap>:1007\u001B[0m, in \u001B[0;36m_find_and_load\u001B[1;34m(name, import_)\u001B[0m\n",
      "File \u001B[1;32m<frozen importlib._bootstrap>:986\u001B[0m, in \u001B[0;36m_find_and_load_unlocked\u001B[1;34m(name, import_)\u001B[0m\n",
      "File \u001B[1;32m<frozen importlib._bootstrap>:666\u001B[0m, in \u001B[0;36m_load_unlocked\u001B[1;34m(spec)\u001B[0m\n",
      "File \u001B[1;32m<frozen importlib._bootstrap>:565\u001B[0m, in \u001B[0;36mmodule_from_spec\u001B[1;34m(spec)\u001B[0m\n",
      "File \u001B[1;32m<frozen importlib._bootstrap_external>:1173\u001B[0m, in \u001B[0;36mcreate_module\u001B[1;34m(self, spec)\u001B[0m\n",
      "File \u001B[1;32m<frozen importlib._bootstrap>:228\u001B[0m, in \u001B[0;36m_call_with_frames_removed\u001B[1;34m(f, *args, **kwds)\u001B[0m\n",
      "\u001B[1;31mImportError\u001B[0m: DLL load failed while importing _gdal: 找不到指定的程序。",
      "\nDuring handling of the above exception, another exception occurred:\n",
      "\u001B[1;31mModuleNotFoundError\u001B[0m                       Traceback (most recent call last)",
      "Cell \u001B[1;32mIn[1], line 1\u001B[0m\n\u001B[1;32m----> 1\u001B[0m \u001B[38;5;28;01mfrom\u001B[39;00m \u001B[38;5;21;01mosgeo\u001B[39;00m \u001B[38;5;28;01mimport\u001B[39;00m gdal, ogr, osr\n\u001B[0;32m      2\u001B[0m ShapefilePath \u001B[38;5;241m=\u001B[39m \u001B[38;5;124m\"\u001B[39m\u001B[38;5;124m../data/road5_30/road.shp\u001B[39m\u001B[38;5;124m\"\u001B[39m\n\u001B[0;32m      3\u001B[0m shapefile \u001B[38;5;241m=\u001B[39m ogr\u001B[38;5;241m.\u001B[39mOpen(ShapefilePath)\n",
      "File \u001B[1;32mD:\\anaconda3\\envs\\gdal\\lib\\site-packages\\osgeo\\__init__.py:35\u001B[0m\n\u001B[0;32m     31\u001B[0m     \u001B[38;5;28;01mexcept\u001B[39;00m \u001B[38;5;167;01mImportError\u001B[39;00m:\n\u001B[0;32m     32\u001B[0m         \u001B[38;5;28;01mreturn\u001B[39;00m importlib\u001B[38;5;241m.\u001B[39mimport_module(\u001B[38;5;124m'\u001B[39m\u001B[38;5;124m_gdal\u001B[39m\u001B[38;5;124m'\u001B[39m)\n\u001B[1;32m---> 35\u001B[0m _gdal \u001B[38;5;241m=\u001B[39m \u001B[43mswig_import_helper\u001B[49m\u001B[43m(\u001B[49m\u001B[43m)\u001B[49m\n\u001B[0;32m     36\u001B[0m \u001B[38;5;28;01mdel\u001B[39;00m swig_import_helper\n\u001B[0;32m     38\u001B[0m __version__ \u001B[38;5;241m=\u001B[39m _gdal\u001B[38;5;241m.\u001B[39m__version__ \u001B[38;5;241m=\u001B[39m _gdal\u001B[38;5;241m.\u001B[39mVersionInfo(\u001B[38;5;124m\"\u001B[39m\u001B[38;5;124mRELEASE_NAME\u001B[39m\u001B[38;5;124m\"\u001B[39m)\n",
      "File \u001B[1;32mD:\\anaconda3\\envs\\gdal\\lib\\site-packages\\osgeo\\__init__.py:32\u001B[0m, in \u001B[0;36mswig_import_helper\u001B[1;34m()\u001B[0m\n\u001B[0;32m     30\u001B[0m     \u001B[38;5;28;01mreturn\u001B[39;00m importlib\u001B[38;5;241m.\u001B[39mimport_module(mname)\n\u001B[0;32m     31\u001B[0m \u001B[38;5;28;01mexcept\u001B[39;00m \u001B[38;5;167;01mImportError\u001B[39;00m:\n\u001B[1;32m---> 32\u001B[0m     \u001B[38;5;28;01mreturn\u001B[39;00m \u001B[43mimportlib\u001B[49m\u001B[38;5;241;43m.\u001B[39;49m\u001B[43mimport_module\u001B[49m\u001B[43m(\u001B[49m\u001B[38;5;124;43m'\u001B[39;49m\u001B[38;5;124;43m_gdal\u001B[39;49m\u001B[38;5;124;43m'\u001B[39;49m\u001B[43m)\u001B[49m\n",
      "File \u001B[1;32mD:\\anaconda3\\envs\\gdal\\lib\\importlib\\__init__.py:127\u001B[0m, in \u001B[0;36mimport_module\u001B[1;34m(name, package)\u001B[0m\n\u001B[0;32m    125\u001B[0m             \u001B[38;5;28;01mbreak\u001B[39;00m\n\u001B[0;32m    126\u001B[0m         level \u001B[38;5;241m+\u001B[39m\u001B[38;5;241m=\u001B[39m \u001B[38;5;241m1\u001B[39m\n\u001B[1;32m--> 127\u001B[0m \u001B[38;5;28;01mreturn\u001B[39;00m \u001B[43m_bootstrap\u001B[49m\u001B[38;5;241;43m.\u001B[39;49m\u001B[43m_gcd_import\u001B[49m\u001B[43m(\u001B[49m\u001B[43mname\u001B[49m\u001B[43m[\u001B[49m\u001B[43mlevel\u001B[49m\u001B[43m:\u001B[49m\u001B[43m]\u001B[49m\u001B[43m,\u001B[49m\u001B[43m \u001B[49m\u001B[43mpackage\u001B[49m\u001B[43m,\u001B[49m\u001B[43m \u001B[49m\u001B[43mlevel\u001B[49m\u001B[43m)\u001B[49m\n",
      "\u001B[1;31mModuleNotFoundError\u001B[0m: No module named '_gdal'"
     ]
    }
   ],
   "source": [
    "from osgeo import gdal, ogr, osr\n",
    "ShapefilePath = \"../data/road5_30/road.shp\"\n",
    "shapefile = ogr.Open(ShapefilePath)"
   ]
  },
  {
   "cell_type": "code",
   "execution_count": 22,
   "outputs": [],
   "source": [
    "layer = shapefile.GetLayer()"
   ],
   "metadata": {
    "collapsed": false,
    "ExecuteTime": {
     "end_time": "2024-06-05T13:51:36.462910200Z",
     "start_time": "2024-06-05T13:51:36.443522300Z"
    }
   }
  },
  {
   "cell_type": "code",
   "execution_count": 2,
   "outputs": [
    {
     "ename": "NameError",
     "evalue": "name 'layer' is not defined",
     "output_type": "error",
     "traceback": [
      "\u001B[1;31m---------------------------------------------------------------------------\u001B[0m",
      "\u001B[1;31mNameError\u001B[0m                                 Traceback (most recent call last)",
      "Cell \u001B[1;32mIn[2], line 1\u001B[0m\n\u001B[1;32m----> 1\u001B[0m \u001B[38;5;28;01mfor\u001B[39;00m feature \u001B[38;5;129;01min\u001B[39;00m \u001B[43mlayer\u001B[49m:\n\u001B[0;32m      2\u001B[0m     geometry \u001B[38;5;241m=\u001B[39m feature\u001B[38;5;241m.\u001B[39mGetGeometryRef()\n\u001B[0;32m      3\u001B[0m     \u001B[38;5;28;01mif\u001B[39;00m \u001B[38;5;129;01mnot\u001B[39;00m geometry:\n",
      "\u001B[1;31mNameError\u001B[0m: name 'layer' is not defined"
     ]
    }
   ],
   "source": [
    "for feature in layer:\n",
    "    geometry = feature.GetGeometryRef()\n",
    "    if not geometry:\n",
    "        print(\"Failed to get geometry from feature.\")\n",
    "        continue\n",
    "    geom_type = geometry.GetGeometryName()\n",
    "    print(f\"Geometry Type: {geom_type}\")\n",
    "    if geom_type == 'MULTIPOLYGON':\n",
    "        for i in range(geometry.GetGeometryCount()):\n",
    "            poly = geometry.GetGeometryRef(i)\n",
    "            if not poly:\n",
    "                print(f\"Failed to get polygon {i} from multipolygon.\")\n",
    "                continue\n",
    "            for j in range(poly.GetGeometryCount()):\n",
    "                ring = poly.GetGeometryRef(j)\n",
    "                if not ring:\n",
    "                    print(f\"Failed to get ring {j} from polygon {i}.\")\n",
    "                    continue\n",
    "                points = ring.GetPoints()\n",
    "                if points:\n",
    "                    for point in points:\n",
    "                        print(f\"MultiPolygon Point: {point}\")\n",
    "                else:\n",
    "                    print(f\"No points found in ring {j} of polygon {i}.\")\n",
    "    else:\n",
    "        print(f\"Unhandled geometry type: {geom_type}\")\n"
   ],
   "metadata": {
    "collapsed": false,
    "ExecuteTime": {
     "end_time": "2024-06-05T14:22:05.819950600Z",
     "start_time": "2024-06-05T14:22:05.768237900Z"
    }
   }
  },
  {
   "cell_type": "code",
   "execution_count": 5,
   "outputs": [],
   "source": [],
   "metadata": {
    "collapsed": false,
    "ExecuteTime": {
     "end_time": "2024-06-05T10:56:03.641385500Z",
     "start_time": "2024-06-05T10:56:03.637378900Z"
    }
   }
  },
  {
   "cell_type": "code",
   "execution_count": null,
   "outputs": [],
   "source": [],
   "metadata": {
    "collapsed": false
   }
  }
 ],
 "metadata": {
  "kernelspec": {
   "display_name": "Python 3",
   "language": "python",
   "name": "python3"
  },
  "language_info": {
   "codemirror_mode": {
    "name": "ipython",
    "version": 2
   },
   "file_extension": ".py",
   "mimetype": "text/x-python",
   "name": "python",
   "nbconvert_exporter": "python",
   "pygments_lexer": "ipython2",
   "version": "2.7.6"
  }
 },
 "nbformat": 4,
 "nbformat_minor": 0
}
